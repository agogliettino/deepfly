{
 "cells": [
  {
   "cell_type": "code",
   "execution_count": 1,
   "id": "loose-bikini",
   "metadata": {},
   "outputs": [
    {
     "name": "stderr",
     "output_type": "stream",
     "text": [
      "2021-11-28 12:29:17.870641: W tensorflow/stream_executor/platform/default/dso_loader.cc:64] Could not load dynamic library 'libcudart.so.11.0'; dlerror: libcudart.so.11.0: cannot open shared object file: No such file or directory\n",
      "2021-11-28 12:29:17.870705: I tensorflow/stream_executor/cuda/cudart_stub.cc:29] Ignore above cudart dlerror if you do not have a GPU set up on your machine.\n"
     ]
    }
   ],
   "source": [
    "import numpy as np\n",
    "import scipy as sp\n",
    "import torch\n",
    "import matplotlib.pyplot as plt\n",
    "import tensorflow as tf\n",
    "import pandas\n",
    "import nibabel as nib\n",
    "import sys\n",
    "sys.path.insert(0,'../deepfly/')\n",
    "import ft_parser as ft\n",
    "from scipy.interpolate import interp1d\n",
    "import sklearn\n",
    "from sklearn.linear_model import LinearRegression\n",
    "import torch\n",
    "import pandas as pd\n",
    "import os\n",
    "import torch.nn as nn\n",
    "import torch.optim as optim"
   ]
  },
  {
   "cell_type": "markdown",
   "id": "deluxe-spectrum",
   "metadata": {},
   "source": [
    "## Load in the data."
   ]
  },
  {
   "cell_type": "code",
   "execution_count": 3,
   "id": "dramatic-center",
   "metadata": {},
   "outputs": [],
   "source": [
    "# Constant to scale the outputs by.\n",
    "BEH_SCALE = 100\n",
    "\n",
    "# Supervoxel data.\n",
    "supervoxel_datapath = '/data/minseung/deepfly/supervoxel/non-interpolated/X_all_neural_z_vox_t_correct.npy'\n",
    "supervoxel_data = np.load(supervoxel_datapath)\n",
    " \n",
    "# Acquisition timestamps for neural data.\n",
    "timestamps_path = '/data/minseung/deepfly/supervoxel/non-interpolated/X_all_neural_timestamps_z_t.npy'\n",
    "X_all_neural_timestamps_z_t = np.load(timestamps_path)\n",
    "\n",
    "# Forward velocity.\n",
    "fwd_path = '/data/minseung/deepfly/behavior/20210525_all_beh.npy'\n",
    "fwd = np.load(fwd_path)\n",
    "fwd *= BEH_SCALE\n",
    "\n",
    "# Rotational velocity, also scale b\n",
    "rot_path = '/data/minseung/deepfly/behavior/20210525_all_beh_rot.npy'\n",
    "rot = np.load(rot_path)\n",
    "rot *= BEH_SCALE\n",
    "\n",
    "# Behaviorial timestamps.\n",
    "behavioral_timestamps_path = '/data/minseung/deepfly/behavior/20210525_all_beh_time.npy'\n",
    "behavioral_timestamps = np.load(behavioral_timestamps_path)"
   ]
  },
  {
   "cell_type": "markdown",
   "id": "acute-sending",
   "metadata": {},
   "source": [
    "## Resample the behavioral data to match the neural and behavioral sampling and write data to disk."
   ]
  },
  {
   "cell_type": "code",
   "execution_count": 4,
   "id": "polar-tomato",
   "metadata": {},
   "outputs": [],
   "source": [
    "# Some constants\n",
    "Z_AXIS_IND = 23 # a z-axis to use\n",
    "TRAIN_FRAC = .90\n",
    "\n",
    "# Grab the first and last time points from neural data.\n",
    "first_tp = X_all_neural_timestamps_z_t[0,0] #from the top z layer\n",
    "last_tp = X_all_neural_timestamps_z_t[-1,0] #from the top z layer\n",
    "\n",
    "# Generate the same number of points to match neural data.\n",
    "timepoints_to_pull = np.linspace(first_tp, last_tp, X_all_neural_timestamps_z_t.shape[0])\n",
    "\n",
    "# Interpolate neural data to be time-aligned to the top z layer\n",
    "supervoxel_interp = np.asarray([[np.interp(timepoints_to_pull, X_all_neural_timestamps_z_t[:,z], supervoxel_data[z,sv,:]) for sv in range(supervoxel_data.shape[1])] for z in range(int(supervoxel_data.shape[0]/2))])\n",
    "\n",
    "# Reshape the data using only one of the Z axes.\n",
    "n_z_slices,n_supervoxels,t = supervoxel_interp.shape\n",
    "supervoxel_interp = supervoxel_interp[Z_AXIS_IND,...].reshape(1,n_supervoxels,t)\n",
    "\n",
    "# Reshape the neural data so that all supervoxels are features.\n",
    "supervoxel_interp = np.transpose(np.reshape(supervoxel_interp,(supervoxel_interp.shape[0] * supervoxel_interp.shape[1],supervoxel_interp.shape[2])))\n",
    "  \n",
    "# Downsample forward velocity.\n",
    "behavior_interp_obj = interp1d(behavioral_timestamps, fwd, bounds_error = False)\n",
    "Y = behavior_interp_obj(timepoints_to_pull)\n",
    "Y = np.nan_to_num(Y)\n",
    "Y_fwd = Y[:,np.newaxis]\n",
    "\n",
    "# Now, downsample rotational velocity and stack them together in a matrix.\n",
    "behavior_interp_obj = interp1d(behavioral_timestamps, rot, bounds_error = False)\n",
    "Y = behavior_interp_obj(timepoints_to_pull)\n",
    "Y = np.nan_to_num(Y)\n",
    "Y_rot = Y[:,np.newaxis]\n",
    "Y = np.c_[Y_fwd,Y_rot]\n",
    "\n",
    "# Make a training and testing split and write this to disk.\n",
    "np.random.seed(2021)\n",
    "n = supervoxel_interp.shape[0]\n",
    "inds_all = np.arange(0,n)\n",
    "train_inds = np.sort(np.random.choice(inds_all,int(np.floor(TRAIN_FRAC * n)),\n",
    "                                     replace=False))\n",
    "test_inds = np.setdiff1d(inds_all,train_inds)\n",
    "\n",
    "# Store the data into a dictionary and write to disk.\n",
    "train_data = dict()\n",
    "train_data['supervoxel_interp'] = supervoxel_interp[train_inds,:]\n",
    "train_data['Y'] = Y[train_inds,:]\n",
    "\n",
    "outdir = '/data/minseung/deepfly/preprocessed/'\n",
    "\n",
    "if not os.path.isdir(outdir):\n",
    "    os.makedirs(outdir)\n",
    "    \n",
    "fnameout = os.path.join(outdir,\"train_data_layer_no_fwd_clip%s\"%str(Z_AXIS_IND))\n",
    "np.save(fnameout,train_data,allow_pickle=True)\n",
    "\n",
    "# Same with the testing split.\n",
    "test_data = dict()\n",
    "test_data['supervoxel_interp'] = supervoxel_interp[test_inds,:]\n",
    "test_data['Y'] = Y[test_inds,:]\n",
    "\n",
    "outdir = '/data/minseung/deepfly/preprocessed/'\n",
    "\n",
    "if not os.path.isdir(outdir):\n",
    "    os.makedirs(outdir)\n",
    "     \n",
    "fnameout = os.path.join(outdir,\"test_data_layer_no_fwd_clip%s\"%str(Z_AXIS_IND))\n",
    "np.save(fnameout,test_data,allow_pickle=True)"
   ]
  }
 ],
 "metadata": {
  "kernelspec": {
   "display_name": "Python (deepfly)",
   "language": "python",
   "name": "deepfly"
  },
  "language_info": {
   "codemirror_mode": {
    "name": "ipython",
    "version": 3
   },
   "file_extension": ".py",
   "mimetype": "text/x-python",
   "name": "python",
   "nbconvert_exporter": "python",
   "pygments_lexer": "ipython3",
   "version": "3.8.5"
  },
  "widgets": {
   "application/vnd.jupyter.widget-state+json": {
    "state": {},
    "version_major": 2,
    "version_minor": 0
   }
  }
 },
 "nbformat": 4,
 "nbformat_minor": 5
}
